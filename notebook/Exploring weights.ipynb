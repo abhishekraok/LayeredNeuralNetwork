{
 "cells": [
  {
   "cell_type": "markdown",
   "metadata": {},
   "source": [
    "# Exploring Weights\n",
    "Here we train the LNN on various task and see how the weights are"
   ]
  },
  {
   "cell_type": "code",
   "execution_count": 1,
   "metadata": {
    "collapsed": true
   },
   "outputs": [],
   "source": [
    "import sys\n",
    "import os\n",
    "sys.path.insert(0,'..')\n",
    "sys.path.insert(0,'../layeredneuralnetwork/')"
   ]
  },
  {
   "cell_type": "markdown",
   "metadata": {},
   "source": [
    "Let us create an LNN with 2 dimension input."
   ]
  },
  {
   "cell_type": "code",
   "execution_count": 2,
   "metadata": {
    "collapsed": false
   },
   "outputs": [],
   "source": [
    "from layered_neural_network import LayeredNeuralNetwork\n",
    "input_dimension = 2\n",
    "lnn = LayeredNeuralNetwork(input_dimension=input_dimension)"
   ]
  },
  {
   "cell_type": "markdown",
   "metadata": {},
   "source": [
    "### Schooling\n",
    "Let us send this young classifier to school to be taught functions like and, or and xor"
   ]
  },
  {
   "cell_type": "code",
   "execution_count": 3,
   "metadata": {
    "collapsed": false
   },
   "outputs": [
    {
     "name": "stdout",
     "output_type": "stream",
     "text": [
      "Teaching classifier task of and\n",
      "Training for label and\n",
      "Trained new Linear SVC with score 1.0\n",
      "Teaching classifier task of or\n",
      "Training for label or\n",
      "Trained new Linear SVC with score 1.0\n",
      "Teaching classifier task of xor\n",
      "Training for label xor\n",
      "Trained new Linear SVC with score 1.0\n"
     ]
    },
    {
     "data": {
      "text/plain": [
       "1.0"
      ]
     },
     "execution_count": 3,
     "metadata": {},
     "output_type": "execute_result"
    }
   ],
   "source": [
    "from school.binary import Binary\n",
    "Binary.teach_and(lnn)\n",
    "Binary.teach_or(lnn)\n",
    "Binary.teach_xor(lnn)"
   ]
  },
  {
   "cell_type": "markdown",
   "metadata": {},
   "source": [
    "### Plotting weights\n",
    "Let us plot the learnt weights. The weights will be of shape (classifiers_count, input_dimension + classifiers_count)"
   ]
  },
  {
   "cell_type": "code",
   "execution_count": 4,
   "metadata": {
    "collapsed": false
   },
   "outputs": [
    {
     "name": "stdout",
     "output_type": "stream",
     "text": [
      "Populating the interactive namespace from numpy and matplotlib\n",
      "(3, 5)\n"
     ]
    }
   ],
   "source": [
    "%pylab inline\n",
    "weights = lnn.get_weights()\n",
    "print(weights.shape)"
   ]
  },
  {
   "cell_type": "code",
   "execution_count": 5,
   "metadata": {
    "collapsed": false
   },
   "outputs": [
    {
     "data": {
      "text/plain": [
       "<matplotlib.text.Text at 0x21d6cf914e0>"
      ]
     },
     "execution_count": 5,
     "metadata": {},
     "output_type": "execute_result"
    },
    {
     "data": {
      "image/png": "[encoded data removed]",
      "text/plain": [
       "<matplotlib.figure.Figure at 0x21d6cf643c8>"
      ]
     },
     "metadata": {},
     "output_type": "display_data"
    }
   ],
   "source": [
    "plt.imshow(weights, cmap='gray', interpolation='none')\n",
    "plt.title('Weights of LNN')\n",
    "plt.xlabel('Inputs')\n",
    "plt.ylabel('Classifiers')"
   ]
  },
  {
   "cell_type": "markdown",
   "metadata": {},
   "source": [
    "### Understanding weights\n",
    "The above shown matrix corresponds to the weights of classifier. \n",
    "Lighter shade indicates higher value, gray = 0, black = negative.\n",
    "Each row is a calssifier, with each column indicating the weight given to different input, previous classifier.\n",
    "\n",
    "** and classifier ** The first row shows AND classifier. Note the high value for input 0 and input 1 and the high bias. This is ON only when both inputs are high.\n",
    "\n",
    "** or classifier ** The second row shows OR classifier. Note the relatively low values for both inputs and bias.\n",
    "\n",
    "** xor classifier ** A linear classifier cannot learn XOR, but with the help of AND and OR classifier even a linear classifier can solve the dreaded XOR task. XOR -> big negative value for AND, positive value for OR."
   ]
  },
  {
   "cell_type": "code",
   "execution_count": null,
   "metadata": {
    "collapsed": true
   },
   "outputs": [],
   "source": [
    "\n"
   ]
  }
 ],
 "metadata": {
  "anaconda-cloud": {},
  "kernelspec": {
   "display_name": "Python [default]",
   "language": "python",
   "name": "python3"
  },
  "language_info": {
   "codemirror_mode": {
    "name": "ipython",
    "version": 3
   },
   "file_extension": ".py",
   "mimetype": "text/x-python",
   "name": "python",
   "nbconvert_exporter": "python",
   "pygments_lexer": "ipython3",
   "version": "3.5.2"
  }
 },
 "nbformat": 4,
 "nbformat_minor": 1
}
